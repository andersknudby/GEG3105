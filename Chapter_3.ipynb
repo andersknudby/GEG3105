{
  "nbformat": 4,
  "nbformat_minor": 0,
  "metadata": {
    "colab": {
      "name": "Chapter 3.ipynb",
      "provenance": [],
      "collapsed_sections": [],
      "authorship_tag": "ABX9TyN0AcRbD7Bm+7ocqlgQbgnT",
      "include_colab_link": true
    },
    "kernelspec": {
      "name": "python3",
      "display_name": "Python 3"
    }
  },
  "cells": [
    {
      "cell_type": "markdown",
      "metadata": {
        "id": "view-in-github",
        "colab_type": "text"
      },
      "source": [
        "<a href=\"https://colab.research.google.com/github/andersknudby/Remote-Sensing/blob/master/Chapter_3.ipynb\" target=\"_parent\"><img src=\"https://colab.research.google.com/assets/colab-badge.svg\" alt=\"Open In Colab\"/></a>"
      ]
    },
    {
      "cell_type": "markdown",
      "metadata": {
        "id": "qJHT0XHALK1Z"
      },
      "source": [
        "#Chapter 3 – Program structure and debugging\r\n",
        "We’re now ready to start writing some actual code that accomplishes something. To start with we are going to write a little piece of code that runs through numbers between 0 and 100, and tests which ones are divisible by 2 (i.e. which ones are even numbers). Not exactly the next big thing in software, but it will allow us to look at two indispensable elements of programming: loops and conditions. However, before you start plugging away at the keyboard, it is always a really good idea to develop a general idea of how you program is going to work. Doing this well can take a bit of practice, so here’s an idea of what that might look like for the task at hand:\r\n",
        "\r\n",
        "![image.png](data:image/png;base64,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)"
      ]
    },
    {
      "cell_type": "markdown",
      "metadata": {
        "id": "dcTDtp5XLw6d"
      },
      "source": [
        "In other words, we first want to create two lists, one that holds the numbers to test, another (initially empty) to hold the numbers we discover are even. That's what is included in the top two boxes in the diagram. We then want to run through the numbers in the first list, one by one, and put them in the second list *if they are even*.\r\n",
        "In Python, the first two steps could look like the code below (explanation to follow below):"
      ]
    },
    {
      "cell_type": "code",
      "metadata": {
        "id": "Tgy_o6CLKuYm"
      },
      "source": [
        "numbers = range(101)\r\n",
        "evenNumbers = []"
      ],
      "execution_count": null,
      "outputs": []
    },
    {
      "cell_type": "markdown",
      "metadata": {
        "id": "ye-zHpl2MfcN"
      },
      "source": [
        "The 'range' function creates a list of integers [0, 1, 2, 3...], starting at 0, and with a length equal to the number indicated in the brackets. So range(101) creates the list [0, 1, 2... 100].\r\n",
        "\r\n",
        "The empty square brackets are used to create an empty list."
      ]
    },
    {
      "cell_type": "markdown",
      "metadata": {
        "id": "F8LSaFHvM2Jc"
      },
      "source": [
        "##For loops\r\n",
        "Now we get to that part where we want to run through all the numbers in the list called “numbers” and test if they are divisible by two. When we want to do something over and over again, in Python (and in any other programming language) we can use what is called a ‘loop’. The simplest kind of ‘loop’ is a ‘for loop’, which in our case can look like so:"
      ]
    },
    {
      "cell_type": "code",
      "metadata": {
        "id": "-lz0rTTOM7fN"
      },
      "source": [
        "for i in numbers:\r\n",
        "\tprint(i, end=\" \")"
      ],
      "execution_count": null,
      "outputs": []
    },
    {
      "cell_type": "markdown",
      "metadata": {
        "id": "v7UvHqvcScR-"
      },
      "source": [
        "What the statement 'for i in numbers:' does is that it gives the first value in 'numbers' to the variable 'i', and then it goes on to do all that is written on lines that are **indented** under it. When it is done with all the indented lines, it goes back, gives 'i' the second value in 'numbers', does all the stuff on the indented lines under it, goes back, and so on until it has used all the numbers in ‘numbers’. ***Indentations matter in Python, so be careful with them!***\r\n",
        "\r\n",
        "In the code above all we did in the indented lines was to print the value of i. To test if i is even instead, we can take the remainder of a division by 2. We do this with the '%' operator, like this:"
      ]
    },
    {
      "cell_type": "code",
      "metadata": {
        "id": "kEqhZpndS5l1"
      },
      "source": [
        "for i in numbers:\r\n",
        "\tremainder = i%2"
      ],
      "execution_count": null,
      "outputs": []
    },
    {
      "cell_type": "markdown",
      "metadata": {
        "id": "3b69bEkcTKgm"
      },
      "source": [
        "Note that when you run the code above, nothing gets printed as output because we didn't tell Python to print anything. But we can add a print line to see the pattern that emerges. Think about that pattern and make sure you understand why it emerges, and what it says about which of hte numbers in 'numbers' are even."
      ]
    },
    {
      "cell_type": "code",
      "metadata": {
        "id": "iEUdfJFgTVwF"
      },
      "source": [
        "for i in numbers:\r\n",
        "  remainder = i%2\r\n",
        "  print(remainder, end=\" \")"
      ],
      "execution_count": null,
      "outputs": []
    },
    {
      "cell_type": "markdown",
      "metadata": {
        "id": "uPAwxvheTnxP"
      },
      "source": [
        "##If - Else statements\r\n",
        "Testing whether something is true or notis done with an 'if' statement. In our case, we want to test whether each number in 'numbers' is even, which is the same as testing whether the remainder, when it has been divided by 2, is zero. So we can write something like 'if remainder is zero'... then the number is even. One important thing to keep in mind here: While you can indeed use the word 'is' in Python, and in our case right now i will work just fine, you should instead use '==' to check whether two things are equal. The reason is that '==' tests the equality of two variables, but 'is' checks whether two variables point to the same object in memory. Sometimes 'is' will work just fine instead of '==', but sometimes it won't.\r\n",
        "\r\n",
        "In our case it should look like this (still indented under the for loop!):"
      ]
    },
    {
      "cell_type": "code",
      "metadata": {
        "id": "G_zQTb-oUDNI"
      },
      "source": [
        "if remainder == 0:\r\n",
        "\tprint(str(i) + \" is even\")"
      ],
      "execution_count": null,
      "outputs": []
    },
    {
      "cell_type": "markdown",
      "metadata": {
        "id": "1vNWqvFbUPTF"
      },
      "source": [
        "If you run the code block above, you will get the result '100 is even', because in the previous code block we ran through all the numbers in 'numbers', ending with '100'. So at this point in the notebook i is 100, and remainder is 0.\r\n",
        "\r\n",
        "The 'if' keyword tells Python that a test of a condition is coming, and the '==' tells Python that what we want to test is whether something (to the left of the '==' sign) is equal to something else (to the right of the '==' sign). Other condition operators include '!=' (not equal to), '>' (greater than), '<' (smaller than), '>=' (greater than or equal to), and '<=' (smaller than or equal to).\r\n",
        "Technically, the product of any of the above tests is a Boolean (logical) value, which can be either 'True' or 'False'. True and False (with uppercase 'T' and 'F') are keywords in Python (like 'print', 'if', 'for', and others) so only use them when you want to denote a Boolean value.\r\n",
        "Indented under the 'if' statement you put lines of code that tell Python what to do ***if*** the condition is true. In our case, if the condition is true then 'i' is an even number, and we want to add it to the list of results. We do it like this (the last line needs to be indented twice because it resides under both the 'for' loop and the 'if' statement):\r\n"
      ]
    },
    {
      "cell_type": "code",
      "metadata": {
        "id": "lJoQSRPcWE5Y"
      },
      "source": [
        "numbers = range(101)\r\n",
        "evenNumbers = []\r\n",
        "\r\n",
        "for i in numbers:\r\n",
        "  remainder = i%2\r\n",
        "  if remainder == 0:\r\n",
        "    evenNumbers.append(i)"
      ],
      "execution_count": null,
      "outputs": []
    },
    {
      "cell_type": "markdown",
      "metadata": {
        "id": "kezC_kt8WXd4"
      },
      "source": [
        "If you want to do something in case the condition in the 'if' statement is not true, you can add an 'else' statement under the lines indented under the 'if' statement, but at the same indentation level as the 'if statement', like so:"
      ]
    },
    {
      "cell_type": "code",
      "metadata": {
        "id": "VDvQ1K4HWfWu"
      },
      "source": [
        "for i in numbers:\r\n",
        "  remainder = i%2\r\n",
        "  if remainder == 0:\r\n",
        "    evenNumbers.append(i)\r\n",
        "  else:\r\n",
        "    print(\"uneven\", end=\" \")"
      ],
      "execution_count": null,
      "outputs": []
    },
    {
      "cell_type": "markdown",
      "metadata": {
        "id": "-ype6HjDWpWG"
      },
      "source": [
        "The 'else' statement is not needed for the present purposes because we only care about the even numbers. At this point we are practically done with the coding, because after the stuff under the 'if' statement has been done (or not, depending on whether the conditions was true or not), the program will return to the 'for i in numbers' statement, give the next value in 'numbers' to 'i', and so on. When there are no more numbers in 'numbers', the program will move on to the next unindented line (more specifically, the next line that is at the same indentation level as the 'for' statement).\r\n",
        "We can therefore end the program with a print statement:\r\n"
      ]
    },
    {
      "cell_type": "code",
      "metadata": {
        "id": "KWr3L-sHW1Wv"
      },
      "source": [
        "numbers = range(101)\r\n",
        "evenNumbers = []\r\n",
        "\r\n",
        "for i in numbers:\r\n",
        "  remainder = i%2\r\n",
        "  if remainder == 0:\r\n",
        "    evenNumbers.append(i)\r\n",
        "\r\n",
        "print(evenNumbers)"
      ],
      "execution_count": null,
      "outputs": []
    },
    {
      "cell_type": "markdown",
      "metadata": {
        "id": "yPqrW1R2XD0e"
      },
      "source": [
        "Remember I mentioned in Chapter 2 that NumPy arrays are good for running the same operation on a whole bunch of numbers at the same time? We could actually have used that approach instead of the for loop to dramatically shorten the code by using NumPy's 'where' function, which finds all instances in an array for which a specified condition is 'True'. In the example below, that conditions is 'remainders == 0'. We need to use the little '[0]' because np.where actually gives us a two-dimensional array, but we only want the first dimension. You can try to remove it and see what happens, the output is more or less the same, just not as pretty."
      ]
    },
    {
      "cell_type": "code",
      "metadata": {
        "id": "TNmWoAoaXH_P"
      },
      "source": [
        "import numpy as np\r\n",
        "numbers = np.asarray(range(101))\r\n",
        "remainders = numbers%2\r\n",
        "result = list(np.where(remainders == 0)[0])\r\n",
        "print(result)"
      ],
      "execution_count": null,
      "outputs": []
    },
    {
      "cell_type": "markdown",
      "metadata": {
        "id": "lw9q4P4vYMTI"
      },
      "source": [
        "##Debugging\r\n",
        "When you have some experience and need to write a really simple program, chances are you might pull off writing the code perfectly the first time around, but I wouldn’t bet on it. And as soon as you start writing more complex pieces of code, and especially when you get into unfamiliar programming territory, I guarantee you that you will write a piece of code, run it, and get an error message that is not immediately comprehensible. When that happens, you need to do what is called ‘debugging’. This is one of the few things I find that notebooks are ***not*** good at compared to a normal IDE, but they are not terrible either so we'll stick with them.\r\n",
        "\r\n",
        "#####Three kinds of errors in programming\r\n",
        "Very broadly speaking, we can categorize three different kinds of errors in programming.\r\n",
        "* **Syntax errors**: There are typically typos that actually prevent the program from running in the first place. In the last line of the code, try deleting the ‘t’ from ‘print’, and click ‘Run’. You get an error saying that the name ‘prin’ it not defined. Easy to fix, syntax errors are the really good kind of errors.\r\n",
        "* **Semantic errors**: These are the kinds of errors that will allow your program to run, it will just not run correctly. In other words, it will produce a result, it will just be the wrong result. These are some of the hardest errors to fix, because Python is doing exactly what you told it to – it’s just that you told it to do something slightly different from what you actually wanted! The error that we are going to debug is a semantic error.\r\n",
        "* **Run-time errors**: Even if you have written syntactically and semantically correct code, you can still run into run-time errors when your computer is unable to do what you are asking of it. Running out of memory is the most common type of run-time error. We will try very hard to avoid such errors in this course because fixing them requires a deeper knowledge of computers than what we are aiming for here.\r\n",
        "\r\n",
        "After you have learned the basics, more than 90% of all the time you spend debugging will probably be on semantic errors, so we will focus on those. Try running the code block below:"
      ]
    },
    {
      "cell_type": "code",
      "metadata": {
        "id": "IVz94k8fYmrp"
      },
      "source": [
        "firstNumber = input('Enter the first number:')\r\n",
        "secondNumber = input('Enter the second number:')\r\n",
        "sum = firstNumber + secondNumber\r\n",
        "\r\n",
        "print(firstNumber + ' and ' + secondNumber + ' is ' + sum, sep=\"\")"
      ],
      "execution_count": null,
      "outputs": []
    },
    {
      "cell_type": "markdown",
      "metadata": {
        "id": "0mloACSwZ9kP"
      },
      "source": [
        "Before we get to the semantic error, we'll just have a quick look at some of the new things in that code block.\r\n",
        "\r\n",
        "* The function 'input' asks the user for some input, and then stores it in a variable.\r\n",
        "\r\n",
        "* The '+' in the print argument is used to print several statements or variables after each other on the same line.\r\n",
        "\r\n",
        "* The 'sep=\"\"' argument in the print statement is used to indicate what we want to use to separate each of those statements or variables.\r\n",
        "\r\n",
        "Now, what was the semantic error? If you're not sure you might have to go back and read through parts of Chapter 1 again.\r\n",
        "\r\n",
        "Debugging semantic errors is hard. My suggestion, in general terms, is to go through the code in chunks and check that the result of each chunk is what you expect. You can put each chunk in a code block to organize them. At some point you may discover that something is not quite what you expected - a value is not what it should be, or a variable doesn't exist, or an 'if' function doesn't give the result you think it should. At that point you can use lots of print statements to constantly see what the value of each variable is, and lots of type statements to find out what type each variable is. The latter should give you good clues as to what is wrong in the code block above.\r\n",
        "\r\n",
        "Debugging syntax errors is much easier because Python will immediately tell you waht's wrong. Like here (run the code block to see what happens):"
      ]
    },
    {
      "cell_type": "code",
      "metadata": {
        "id": "ATrugmmfclDY"
      },
      "source": [
        "pint(\"I just made a typo\")"
      ],
      "execution_count": null,
      "outputs": []
    },
    {
      "cell_type": "markdown",
      "metadata": {
        "id": "leZB0ThTbLSP"
      },
      "source": [
        "When you get error like that, make it a habit to actually read the error message. Much of the time it will actually tell you what is wrong - but honestly sometimes it's not helpful at all. But sometimes the part of youer code in which the error appears can be a bit deceiving because you may have a semantic error in one code block that leads to a syntax error in the next one. Try these two code blocks for example:"
      ]
    },
    {
      "cell_type": "code",
      "metadata": {
        "id": "IkdbvJ9cdF_e"
      },
      "source": [
        "populationOfCanada = \"37590000\"\r\n",
        "populationOfOntario = \"14570000\""
      ],
      "execution_count": null,
      "outputs": []
    },
    {
      "cell_type": "code",
      "metadata": {
        "id": "9LZXQ4sddGVe"
      },
      "source": [
        "proportionOfPopulationInOntario = populationOfOntario / populationOfCanada"
      ],
      "execution_count": null,
      "outputs": []
    },
    {
      "cell_type": "markdown",
      "metadata": {
        "id": "Z1FIfhDBdzx3"
      },
      "source": [
        "Run-time errros are something we'll ideally not deal with in this course, but sometimes they happen anyway. A common run-time error is the infinite loop, in which you code keeps doing X until Y happens... but Y never happens. Here's an example, but before you run it you should be aware of two things:\r\n",
        "* In colab, you can stop the execution of a code block using the little 'stop' button on the left side of the block.\r\n",
        "* You can clear the output from a code block using the button at the top left of the output area. (You are going to need to do that, because the block below keeps printing stuff until you stop it.) "
      ]
    },
    {
      "cell_type": "code",
      "metadata": {
        "id": "RolHSILmewIK"
      },
      "source": [
        "x = 2\r\n",
        "\r\n",
        "while x > 0:\r\n",
        "  print(x)\r\n",
        "  print(\"This loop never ends because x is always 2\")"
      ],
      "execution_count": null,
      "outputs": []
    },
    {
      "cell_type": "markdown",
      "metadata": {
        "id": "9rxg7DLIf2uY"
      },
      "source": [
        "##Exercise\r\n",
        "1\\) In a new notebook, write some code that takes integers ranging from 0 to 999, puts all the values divisible by 7 into a new list, converts that list to a NumPy array, and multiplies it by 3.\r\n",
        "\r\n",
        "2\\) In a new notebook, write some code that finds all prime numbers from 0 to 1000. This is not an easy task, and if you get stuck I suggest the following steps:\r\n",
        "\r\n",
        "* First look online for inspiration. The reason why this is a good step is that it forces you to think about what to search for, and then evaluate whether what you find is what you wanted.\r\n",
        "* As a last resort, look through the code below, but **don't look at the code below if you want to come up with your own solution to the exercise!**\r\n"
      ]
    },
    {
      "cell_type": "code",
      "metadata": {
        "colab": {
          "base_uri": "https://localhost:8080/"
        },
        "id": "NW2Vbt43yEs_",
        "outputId": "60cfd53f-e77d-468e-a4c4-2bcacf90e1b2"
      },
      "source": [
        "# Code to find prime numbers up to 1000\r\n",
        "# Remember, prime numbers are those that are only divisible by 1 and the number itself\r\n",
        "\r\n",
        "# First we define an empty list to contain our prime numbers\r\n",
        "primes = []\r\n",
        "\r\n",
        "# Then we run through all then number from 1 to 1000 and check if they are divisible by anything other than 1 and the number itself\r\n",
        "# To speed things up a bit, we actually just need to test if they are divisble by anything ranging from 2 to the number itself minus 1.\r\n",
        "\r\n",
        "# Note on the use of range below:\r\n",
        "# 1) By default, range starts counting at 0, so to avoid testing 0 we use an additional 'start' argument, setting it to 1\r\n",
        "# 2) Also, we add one to the 'stop' argument because of how range counts. If we want our last value to be 1000, we have to set 'stop' to 1000 + 1.\r\n",
        "\r\n",
        "for i in range(1, 1000 + 1):\r\n",
        "  isPrime = True  # Until we find a value (in the right range) that i is divisible by, we will assume it is a prime\r\n",
        "  for x in range(2, i):  # This defines the range of values that we need to see if 'i' is divisible by. We ignore 1, and i itself\r\n",
        "    if i%x == 0:  # If i is divisible by x, then...\r\n",
        "      isPrime = False  # Not a prime number\r\n",
        "      break  # No need to test all the remaining numbers\r\n",
        "  \r\n",
        "  # Note that if we check i%x for all values of x, and i%x is never == 0, then isPrime is still 'True'\r\n",
        "  if isPrime == True:\r\n",
        "    primes.append(i)\r\n",
        "\r\n",
        "print(\"Primes: \", end=\"\")\r\n",
        "print(primes)\r\n",
        "\r\n"
      ],
      "execution_count": null,
      "outputs": [
        {
          "output_type": "stream",
          "text": [
            "Primes: [1, 2, 3, 5, 7, 11, 13, 17, 19, 23, 29, 31, 37, 41, 43, 47, 53, 59, 61, 67, 71, 73, 79, 83, 89, 97, 101, 103, 107, 109, 113, 127, 131, 137, 139, 149, 151, 157, 163, 167, 173, 179, 181, 191, 193, 197, 199, 211, 223, 227, 229, 233, 239, 241, 251, 257, 263, 269, 271, 277, 281, 283, 293, 307, 311, 313, 317, 331, 337, 347, 349, 353, 359, 367, 373, 379, 383, 389, 397, 401, 409, 419, 421, 431, 433, 439, 443, 449, 457, 461, 463, 467, 479, 487, 491, 499, 503, 509, 521, 523, 541, 547, 557, 563, 569, 571, 577, 587, 593, 599, 601, 607, 613, 617, 619, 631, 641, 643, 647, 653, 659, 661, 673, 677, 683, 691, 701, 709, 719, 727, 733, 739, 743, 751, 757, 761, 769, 773, 787, 797, 809, 811, 821, 823, 827, 829, 839, 853, 857, 859, 863, 877, 881, 883, 887, 907, 911, 919, 929, 937, 941, 947, 953, 967, 971, 977, 983, 991, 997]\n"
          ],
          "name": "stdout"
        }
      ]
    }
  ]
}