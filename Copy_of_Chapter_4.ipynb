{
  "nbformat": 4,
  "nbformat_minor": 0,
  "metadata": {
    "colab": {
      "name": "Copy of Chapter 4.ipynb",
      "provenance": [],
      "collapsed_sections": [],
      "authorship_tag": "ABX9TyPYMTXnFAgbnHGl0bNux54R",
      "include_colab_link": true
    },
    "kernelspec": {
      "name": "python3",
      "display_name": "Python 3"
    }
  },
  "cells": [
    {
      "cell_type": "markdown",
      "metadata": {
        "id": "view-in-github",
        "colab_type": "text"
      },
      "source": [
        "<a href=\"https://colab.research.google.com/github/andersknudby/Remote-Sensing/blob/master/Copy_of_Chapter_4.ipynb\" target=\"_parent\"><img src=\"https://colab.research.google.com/assets/colab-badge.svg\" alt=\"Open In Colab\"/></a>"
      ]
    },
    {
      "cell_type": "markdown",
      "metadata": {
        "id": "B9cxjWaln-Zq"
      },
      "source": [
        "#Chapter 4 - Functions\r\n",
        "As you start to write more complicated code, it will often happen that you need to do the same thing several times. If this thing is complicated and requires more than a few lines of code, like reading a satellite image, reprojecting a shapefile, or extracting values from a raster at the locations of points in a shapefile, it would make your brain explode (and make your code very difficult to read through and understand) if you had to write all the necessary code in you program each time you had to do that complicated thing. This is what functions are for. Functions let you write a sequence of commands that you will be using over and over, and pack them together such that they can be used with a single command instead. It's like 'putting your pants on', which you can express with a single statement even though it actually takes a sequence of individual steps (find you pants, grab the right opening, put one leg in, put the other leg in, pull them up, zip and/or button them up). Functions let you hide all the details so you don't have to think of them every time you want to 'put your pants on'. Functions are your friends – learning to write and make good use of functions will be one of the most important parts of making you an effective programmer.\r\n",
        "\r\n",
        "An example that has nothing to do with pants... when you want to calculate a mean of a number of values, you can use the function np.mean, like so:"
      ]
    },
    {
      "cell_type": "code",
      "metadata": {
        "id": "iybg3f-qn8lQ"
      },
      "source": [
        "import numpy as np\r\n",
        "someArray = np.array([1, 2, 3, 4])\r\n",
        "print(np.mean(someArray))"
      ],
      "execution_count": null,
      "outputs": []
    },
    {
      "cell_type": "markdown",
      "metadata": {
        "id": "1DlTqH4LoR12"
      },
      "source": [
        "But how do you actually calculate the mean value of a bunch of numbers? The mean value is defined as the sum of all the values divided by the number of values. Let's imagine for a moment that the creators of NumPy has forgotten to include the np.mean() function in their latest update, and you needed to create your own. You could define your own function like this:"
      ]
    },
    {
      "cell_type": "code",
      "metadata": {
        "id": "EG2CUNZfoZJF"
      },
      "source": [
        "def myMean(input):\r\n",
        "  sum = np.sum(input)  # np.sum calculates the sum of a list or an array\r\n",
        "  number = len(input)  # len returns the number of items in a list or an array\r\n",
        "  mean = float(sum) / number\r\n",
        "  return mean"
      ],
      "execution_count": null,
      "outputs": []
    },
    {
      "cell_type": "markdown",
      "metadata": {
        "id": "OW_D5iZXomfk"
      },
      "source": [
        "A couple of things to notice in this structure, line by line:\r\n",
        "\r\n",
        "* When you run the code block above, nothing seems to happen. That's because all we are doing it telling Python that we want it to know a new function called 'myMean', and we describe what that function should do. We're not actually using that function to calculate a mean value yet.\r\n",
        "* The definition of a new function uses the keyword 'def', followed by the name you want to give your function (please always name it something meaningful!), followed by the input(s) required in brackets. In programming speak, those inputs are called 'arguments'. In the function above I have called the argument 'input' and not 'array' because this function can actually calculate the mean value of both arrays and lists (assuming, of course, that the lists are full of numbers!). Following the 'def' statement, all lines that make up the function are indented.\r\n",
        "* np.sum() is used to calculate the sum of the values in 'input'. Nothing exciting to see here.\r\n",
        "* len() is used to calculate the number of values in 'input'. Not exciting either, but very useful!\r\n",
        "* When dividing the 'sum' by the 'number', we make sure to convert one of them (it doesn't matter which one) to a float, to avoid problems associated with integer division.\r\n",
        "* Finally, the keyword 'return' is used to send a result back from the function, either to be printed in the output window (if the function is used directly from the Python Interpreter) or to be put in a variable (if run in an executed piece of code). You can easily return more than one variable from a function (e.g. just write 'return mean, sum' if you want to return both variables).\r\n",
        "\r\n",
        "Once you have written the lines above in the text editor window, you need to execute them for the Python Interpreter to be aware of your new function. The easiest way of doing that is to always write your functions at the top of your .py document. When the lines that comprise the function are executed, nothing happens except that the Python Interpreter learns what your function is called and what it does. The function is only put to use when it is specifically called outside the 'def' statement.\r\n",
        "\r\n",
        "We can check that the function we created above actually works, by comparing it to np.sum:"
      ]
    },
    {
      "cell_type": "code",
      "metadata": {
        "id": "HNQxyUudpJnW"
      },
      "source": [
        "print(\"Using NumPy: \" + str(np.mean(someArray)))\r\n",
        "print(\"Using myMean: \" + str(myMean(someArray)))"
      ],
      "execution_count": null,
      "outputs": []
    },
    {
      "cell_type": "markdown",
      "metadata": {
        "id": "FCMakOKBpt4k"
      },
      "source": [
        "The printed results of both functions give us the same (correct) result, which should give us confidence that our function actually works.\r\n",
        "Many other IDEs have something called 'code folding', that allows you to 'minimize' the code that is inside each function so you only see its name (without actually deleting the code of course!). You can then expand the code in each function if you want to look at it in more detail, but once you are satisfied that it works and you don't need to see the details all the time, you can turn it into a single line. PyScripter does not have code folding, which is a major shortcoming for using it to build large pieces of code. So using PyScripter you will always have your own functions displayed with every single line of code at the top of your .py file.\r\n",
        "\r\n",
        "That's really all there is to functions. Python libraries like NumPy are basically a collection of functions that serve a particular purpose and work well together. You'll recognize functions by the brackets '()' the follow the function name, as in 'np.mean()', 'len()', or your own 'myMean()'. Note that is it perfectly fine to use functions within other functions, as you did yourself in myMean(). Using functions within functions is actually very useful, because it allows you to build smaller functions that do small generic things (like calculating an average), and then use them in larger functions that do more specific things (like calculating an average of values in a field from a shapefile).\r\n"
      ]
    },
    {
      "cell_type": "markdown",
      "metadata": {
        "id": "4Ka95TcFp8rE"
      },
      "source": [
        "##Exercise\r\n",
        "To play around with how functions work, **write a function that takes a string as input, counts the number of upper-case and lower-case letters in that string, and returns the values**. Then we will use the function to find out how many upper-case letters and how many lower-case letters there are in the string \"I love to learn new stuff, especially Python, NumPy, and programming in general (because it is an important transferable skill to graduate with!)\"\r\n",
        "\r\n",
        "One version of the Python code that can accomplish this task is given at the end of this chapter. Feel free to peek at it, a lot or a little, whenever you need to. Before you do, though, here are some **tips** you might find helpful for thinking about how to solve this exercise:\r\n",
        "\r\n",
        "**Tip 1\\)** Always first think about the general structure of the workflow necessary to complete the task. The general structure of your program is up to you, but I suggest something like the following:\r\n",
        "\r\n",
        ">1\\)\tDefine the function.<br>\r\n",
        "2\\)\tDefine the string.<br>\r\n",
        "3\\)\tRun the function with the string.<br>\r\n",
        "4\\)\tPrint the results.<br>\r\n",
        "\r\n",
        "For the function itself, I suggest something like the following:\r\n",
        "\r\n",
        ">1\\)\tCreate two variables, one that counts the number of uppercase letters, and another that counts the number of lowercase letters. Set both to values of 0.<br>\r\n",
        "2\\)\tCreate a for loop that runs through each character in the string.<br>\r\n",
        "3\\)\tWithin that for loop, check if the character is uppercase. If it is, add one to the variable that counts the number of uppercase letters.<br>\r\n",
        "4\\)\tThen, still within that for loop, check if the character is lowercase. If it is, add one to the variable that counts the number of lowercase letters.<br>\r\n",
        "5\\)\tAfter the for loop is done, use the ‘return’ keyword to return the two variables that you created in step 1).<br>\r\n",
        "\r\n",
        "**Tip 2\\)**\r\n",
        "To cycle through characters in a string variable, you can use a for loop, like so:\r\n",
        "\r\n",
        "\r\n",
        "\r\n"
      ]
    },
    {
      "cell_type": "code",
      "metadata": {
        "id": "jSR8rmTYsAH_"
      },
      "source": [
        "testString = \"blabla\"\r\n",
        "for character in testString:\r\n",
        "  print(character, end=\" \")"
      ],
      "execution_count": null,
      "outputs": []
    },
    {
      "cell_type": "markdown",
      "metadata": {
        "id": "tHwbUlzIsJRk"
      },
      "source": [
        "**Tip 3\\)**\r\n",
        "To test if a character is uppercase, you can use the function str.isupper(). For example, str.isupper('a') is going to give you the result 'False'. 'False' here is a Boolean (logical) value returned because indeed 'a' is not uppercase. str.islower() should be self-explanatory. To try them out:"
      ]
    },
    {
      "cell_type": "code",
      "metadata": {
        "id": "I2P1oVYisUz0"
      },
      "source": [
        "print(str.isupper(\"a\"))\r\n",
        "print(str.islower(\"a\"))"
      ],
      "execution_count": null,
      "outputs": []
    },
    {
      "cell_type": "markdown",
      "metadata": {
        "id": "LBAL1uW4sX8V"
      },
      "source": [
        "To return more than one value from a function, simply write: 'return a, b'\r\n",
        "\r\n",
        "Outside the function (called ‘upperlowercounter’ below), when you want to retrieve the two values, you can call the function and define two variables to retrieve the return, like this:\r\n",
        "'upper, lower = upperlowercounter(\"hsdfhgSERGTSADFGS\")'\r\n",
        "\r\n",
        "Okay, if you want to see a function that works as intended for this exercise, have a look below. First the function definition:"
      ]
    },
    {
      "cell_type": "code",
      "metadata": {
        "id": "4YTmukSNsmLn"
      },
      "source": [
        "def uppercaseAndLowercase(inputString):\r\n",
        "    upperCounter = 0\r\n",
        "    lowerCounter = 0\r\n",
        "    for c in inputString:\r\n",
        "        if str.isupper(c) is True:\r\n",
        "            upperCounter = upperCounter + 1\r\n",
        "        if str.islower(c) is True:\r\n",
        "            lowerCounter = lowerCounter + 1\r\n",
        "    return upperCounter, lowerCounter"
      ],
      "execution_count": null,
      "outputs": []
    },
    {
      "cell_type": "markdown",
      "metadata": {
        "id": "7B6Gdhv_tIqH"
      },
      "source": [
        "Then demonstrate that it works:"
      ]
    },
    {
      "cell_type": "code",
      "metadata": {
        "id": "i98y6_sOtL89"
      },
      "source": [
        "upper, lower = uppercaseAndLowercase(\"I love to learn new stuff, especially Python, NumPy, and programming in general (because it is an important transferable skill to graduate with!)\")\r\n",
        "print(\"Number of uppercase letters: \" + str(upper))\r\n",
        "print(\"Number of lowercase letters: \" + str(lower))"
      ],
      "execution_count": null,
      "outputs": []
    },
    {
      "cell_type": "markdown",
      "metadata": {
        "id": "YkTShPAetSo8"
      },
      "source": [
        "##Another exercise - this one you hand in as a lab!\r\n",
        "* Write a function that takes an integer as argument, and returns a value of 'True' or 'False' indicating whether it is a prime number or not.\r\n",
        "* Explain in your own words how the function works.\r\n",
        "* Demonstrate with the numbers 13 and 15 that is does indeed work.\r\n",
        "\r\n",
        "##Notes on some non-standard functions:\r\n",
        "\r\n",
        "*\tFunction do not strictly have to include a 'return' statement. Some functions may, for example, create a file, and thus still be useful without returning a value of any sort when they are done. A good programming practice, though, is to then check if the file was created correctly, and return a value of '0' if it was, or '1' if it wasn’t (e.g. you might have run out of disk space, or not have permission to write the file in a specific folder, and so on).\r\n",
        "*\tFunctions do not strictly have to use any 'arguments' (the input provided in brackets when you run the function are called arguments). Examples of functions that do not use arguments could include a function that finds out how many CPU cores there are on your machine and returns that number, or a function that finds out what the username of the current user is and returns it. Both examples do not need any arguments because it is already obvious what the functions has to work with (your CPU, and the username, respectively)."
      ]
    }
  ]
}